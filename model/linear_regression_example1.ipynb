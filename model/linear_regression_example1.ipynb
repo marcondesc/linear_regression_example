{
 "cells": [
  {
   "attachments": {},
   "cell_type": "markdown",
   "metadata": {},
   "source": [
    "*Consumo de cerveja em São Paulo*\n",
    "Dataset trazendo dados referentes ao consumo de cerveja em São Paulo no ano de 2015. Os dados são: Data, Temperatura Media (C), Temperatura Minima (C), Temperatura Maxima (C), Precipitacao (mm), se é final de semana e Consumo de cerveja (em litros)."
   ]
  },
  {
   "cell_type": "code",
   "execution_count": null,
   "metadata": {},
   "outputs": [],
   "source": [
    "# instalar o scikit-learn \n",
    "pip install scikit-learn"
   ]
  },
  {
   "cell_type": "code",
   "execution_count": 17,
   "metadata": {},
   "outputs": [],
   "source": [
    "# importar as bibliotecas necessárias\n",
    "import pandas as pd\n",
    "from sklearn.linear_model import LinearRegression"
   ]
  },
  {
   "cell_type": "code",
   "execution_count": 23,
   "metadata": {},
   "outputs": [
    {
     "data": {
      "text/html": [
       "<div>\n",
       "<style scoped>\n",
       "    .dataframe tbody tr th:only-of-type {\n",
       "        vertical-align: middle;\n",
       "    }\n",
       "\n",
       "    .dataframe tbody tr th {\n",
       "        vertical-align: top;\n",
       "    }\n",
       "\n",
       "    .dataframe thead th {\n",
       "        text-align: right;\n",
       "    }\n",
       "</style>\n",
       "<table border=\"1\" class=\"dataframe\">\n",
       "  <thead>\n",
       "    <tr style=\"text-align: right;\">\n",
       "      <th></th>\n",
       "      <th>date</th>\n",
       "      <th>temperatura_media</th>\n",
       "      <th>temperatura_minima</th>\n",
       "      <th>temperatura_maxima</th>\n",
       "      <th>precipitacao</th>\n",
       "      <th>fds</th>\n",
       "      <th>consumo_cerveja</th>\n",
       "    </tr>\n",
       "  </thead>\n",
       "  <tbody>\n",
       "    <tr>\n",
       "      <th>0</th>\n",
       "      <td>2015-01-01</td>\n",
       "      <td>27.30</td>\n",
       "      <td>23.9</td>\n",
       "      <td>32.5</td>\n",
       "      <td>0.0</td>\n",
       "      <td>0</td>\n",
       "      <td>25.461</td>\n",
       "    </tr>\n",
       "    <tr>\n",
       "      <th>1</th>\n",
       "      <td>2015-01-02</td>\n",
       "      <td>27.02</td>\n",
       "      <td>24.5</td>\n",
       "      <td>33.5</td>\n",
       "      <td>0.0</td>\n",
       "      <td>0</td>\n",
       "      <td>28.972</td>\n",
       "    </tr>\n",
       "    <tr>\n",
       "      <th>2</th>\n",
       "      <td>2015-01-03</td>\n",
       "      <td>24.82</td>\n",
       "      <td>22.4</td>\n",
       "      <td>29.9</td>\n",
       "      <td>0.0</td>\n",
       "      <td>1</td>\n",
       "      <td>30.814</td>\n",
       "    </tr>\n",
       "    <tr>\n",
       "      <th>3</th>\n",
       "      <td>2015-01-04</td>\n",
       "      <td>23.98</td>\n",
       "      <td>21.5</td>\n",
       "      <td>28.6</td>\n",
       "      <td>1.2</td>\n",
       "      <td>1</td>\n",
       "      <td>29.799</td>\n",
       "    </tr>\n",
       "    <tr>\n",
       "      <th>4</th>\n",
       "      <td>2015-01-05</td>\n",
       "      <td>23.82</td>\n",
       "      <td>21.0</td>\n",
       "      <td>28.3</td>\n",
       "      <td>0.0</td>\n",
       "      <td>0</td>\n",
       "      <td>28.900</td>\n",
       "    </tr>\n",
       "    <tr>\n",
       "      <th>...</th>\n",
       "      <td>...</td>\n",
       "      <td>...</td>\n",
       "      <td>...</td>\n",
       "      <td>...</td>\n",
       "      <td>...</td>\n",
       "      <td>...</td>\n",
       "      <td>...</td>\n",
       "    </tr>\n",
       "    <tr>\n",
       "      <th>360</th>\n",
       "      <td>2015-12-27</td>\n",
       "      <td>24.00</td>\n",
       "      <td>21.1</td>\n",
       "      <td>28.2</td>\n",
       "      <td>13.6</td>\n",
       "      <td>1</td>\n",
       "      <td>32.307</td>\n",
       "    </tr>\n",
       "    <tr>\n",
       "      <th>361</th>\n",
       "      <td>2015-12-28</td>\n",
       "      <td>22.64</td>\n",
       "      <td>21.1</td>\n",
       "      <td>26.7</td>\n",
       "      <td>0.0</td>\n",
       "      <td>0</td>\n",
       "      <td>26.095</td>\n",
       "    </tr>\n",
       "    <tr>\n",
       "      <th>362</th>\n",
       "      <td>2015-12-29</td>\n",
       "      <td>21.68</td>\n",
       "      <td>20.3</td>\n",
       "      <td>24.1</td>\n",
       "      <td>10.3</td>\n",
       "      <td>0</td>\n",
       "      <td>22.309</td>\n",
       "    </tr>\n",
       "    <tr>\n",
       "      <th>363</th>\n",
       "      <td>2015-12-30</td>\n",
       "      <td>21.38</td>\n",
       "      <td>19.3</td>\n",
       "      <td>22.4</td>\n",
       "      <td>6.3</td>\n",
       "      <td>0</td>\n",
       "      <td>20.467</td>\n",
       "    </tr>\n",
       "    <tr>\n",
       "      <th>364</th>\n",
       "      <td>2015-12-31</td>\n",
       "      <td>24.76</td>\n",
       "      <td>20.2</td>\n",
       "      <td>29.0</td>\n",
       "      <td>0.0</td>\n",
       "      <td>0</td>\n",
       "      <td>22.446</td>\n",
       "    </tr>\n",
       "  </tbody>\n",
       "</table>\n",
       "<p>365 rows × 7 columns</p>\n",
       "</div>"
      ],
      "text/plain": [
       "           date  temperatura_media  temperatura_minima  temperatura_maxima  \\\n",
       "0    2015-01-01              27.30                23.9                32.5   \n",
       "1    2015-01-02              27.02                24.5                33.5   \n",
       "2    2015-01-03              24.82                22.4                29.9   \n",
       "3    2015-01-04              23.98                21.5                28.6   \n",
       "4    2015-01-05              23.82                21.0                28.3   \n",
       "..          ...                ...                 ...                 ...   \n",
       "360  2015-12-27              24.00                21.1                28.2   \n",
       "361  2015-12-28              22.64                21.1                26.7   \n",
       "362  2015-12-29              21.68                20.3                24.1   \n",
       "363  2015-12-30              21.38                19.3                22.4   \n",
       "364  2015-12-31              24.76                20.2                29.0   \n",
       "\n",
       "     precipitacao  fds  consumo_cerveja  \n",
       "0             0.0    0           25.461  \n",
       "1             0.0    0           28.972  \n",
       "2             0.0    1           30.814  \n",
       "3             1.2    1           29.799  \n",
       "4             0.0    0           28.900  \n",
       "..            ...  ...              ...  \n",
       "360          13.6    1           32.307  \n",
       "361           0.0    0           26.095  \n",
       "362          10.3    0           22.309  \n",
       "363           6.3    0           20.467  \n",
       "364           0.0    0           22.446  \n",
       "\n",
       "[365 rows x 7 columns]"
      ]
     },
     "execution_count": 23,
     "metadata": {},
     "output_type": "execute_result"
    }
   ],
   "source": [
    "# Carregar o dataset para um dataframe do pandas\n",
    "cerveza_df_or = pd.read_csv('Consumo_cerveja.csv')\n",
    "# tirar os registros em branco\n",
    "cerveja_df = cerveza_df_or.dropna()\n",
    "# renomear as colunas\n",
    "cerveja_df = cerveja_df.rename(columns={'Data': 'date','Temperatura Media (C)': 'temperatura_media',\n",
    "                                        'Temperatura Minima (C)': 'temperatura_minima','Temperatura Maxima (C)': 'temperatura_maxima',\n",
    "                                        'Precipitacao (mm)': 'precipitacao','Final de Semana': 'fds',\n",
    "                                        'Consumo de cerveja (litros)': 'consumo_cerveja'})\n",
    "# converter os valores para int e float\n",
    "cerveja_df['fds'] = cerveja_df['fds'].astype(int)\n",
    "cerveja_df['temperatura_minima'] = cerveja_df['temperatura_minima'].str.replace(',', '.').astype(float)\n",
    "cerveja_df['temperatura_maxima'] = cerveja_df['temperatura_maxima'].str.replace(',', '.').astype(float)\n",
    "cerveja_df['temperatura_media'] = cerveja_df['temperatura_media'].str.replace(',', '.').astype(float)\n",
    "cerveja_df['precipitacao'] = cerveja_df['precipitacao'].str.replace(',', '.').astype(float)\n",
    "# exibir os dados do dataframe\n",
    "cerveja_df"
   ]
  },
  {
   "cell_type": "code",
   "execution_count": 29,
   "metadata": {},
   "outputs": [
    {
     "name": "stdout",
     "output_type": "stream",
     "text": [
      "[ 0.03079559 -0.01903491  0.65600076 -0.05746938  5.18318073]\n"
     ]
    }
   ],
   "source": [
    "# Separa as variáveis independentes da variável alvo\n",
    "X = cerveja_df[['temperatura_media', 'temperatura_minima', 'temperatura_maxima', 'precipitacao', 'fds']]\n",
    "y = cerveja_df['consumo_cerveja']\n",
    "\n",
    "# Cria o modelo de regressão linear múltipla\n",
    "model = LinearRegression().fit(X, y)\n",
    "\n",
    "# Imprime os coeficientes do modelo\n",
    "print(model.coef_)"
   ]
  },
  {
   "cell_type": "code",
   "execution_count": 30,
   "metadata": {},
   "outputs": [],
   "source": [
    "import pickle\n",
    "\n",
    "# Salva o modelo em um arquivo\n",
    "with open('modelo_consumo_cerveja.pkl', 'wb') as f:\n",
    "    pickle.dump(model, f)"
   ]
  },
  {
   "cell_type": "code",
   "execution_count": 32,
   "metadata": {},
   "outputs": [
    {
     "name": "stdout",
     "output_type": "stream",
     "text": [
      "[32.98278361]\n"
     ]
    },
    {
     "name": "stderr",
     "output_type": "stream",
     "text": [
      "C:\\Users\\10270\\AppData\\Local\\Packages\\PythonSoftwareFoundation.Python.3.10_qbz5n2kfra8p0\\LocalCache\\local-packages\\Python310\\site-packages\\sklearn\\base.py:439: UserWarning: X does not have valid feature names, but LinearRegression was fitted with feature names\n",
      "  warnings.warn(\n"
     ]
    }
   ],
   "source": [
    "import pickle\n",
    "\n",
    "# Carrega o modelo do arquivo\n",
    "with open('modelo_consumo_cerveja.pkl', 'rb') as f:\n",
    "    modelo = pickle.load(f)\n",
    "\n",
    "# Faz uma previsão para novos dados\n",
    "nova_previsao = modelo.predict([[26,23,32,0,1]])\n",
    "\n",
    "print(nova_previsao)"
   ]
  }
 ],
 "metadata": {
  "kernelspec": {
   "display_name": "Python 3",
   "language": "python",
   "name": "python3"
  },
  "language_info": {
   "codemirror_mode": {
    "name": "ipython",
    "version": 3
   },
   "file_extension": ".py",
   "mimetype": "text/x-python",
   "name": "python",
   "nbconvert_exporter": "python",
   "pygments_lexer": "ipython3",
   "version": "3.10.11"
  },
  "orig_nbformat": 4
 },
 "nbformat": 4,
 "nbformat_minor": 2
}
